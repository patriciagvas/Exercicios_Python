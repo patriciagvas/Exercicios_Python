{
  "nbformat": 4,
  "nbformat_minor": 0,
  "metadata": {
    "colab": {
      "provenance": [],
      "authorship_tag": "ABX9TyPwZuaYleRX46BPds8uts7Z",
      "include_colab_link": true
    },
    "kernelspec": {
      "name": "python3",
      "display_name": "Python 3"
    },
    "language_info": {
      "name": "python"
    }
  },
  "cells": [
    {
      "cell_type": "markdown",
      "metadata": {
        "id": "view-in-github",
        "colab_type": "text"
      },
      "source": [
        "<a href=\"https://colab.research.google.com/github/patriciagvas/Exercicios_Python/blob/main/Exerc%C3%ADcios_de_Revis%C3%A3o_Python_1.ipynb\" target=\"_parent\"><img src=\"https://colab.research.google.com/assets/colab-badge.svg\" alt=\"Open In Colab\"/></a>"
      ]
    },
    {
      "cell_type": "markdown",
      "source": [
        "Aqui estão alguns exercícios de revisão sobre strings em Python, focando em situações que podem ser úteis para análise de dados:\n",
        "\n",
        "1. **Exercício 1:**\n",
        "   Crie uma função que recebe uma lista de strings e retorna a string com o maior número de caracteres.\n",
        "\n",
        "2. **Exercício 2:**\n",
        "   Dada uma string de texto, conte quantas palavras existem nela (considere palavras separadas por espaços). Lembre-se de remover espaços extras antes de contar as palavras.\n",
        "\n",
        "3. **Exercício 3:**\n",
        "   Crie uma função que recebe uma string e retorna o número de vezes que uma palavra específica aparece na string. A busca deve ser case insensitive.\n",
        "\n",
        "4. **Exercício 4:**\n",
        "   Dada uma string com números e letras misturados, extraia todos os números da string e retorne como uma lista de inteiros.\n",
        "\n",
        "5. **Exercício 5:**\n",
        "   Escreva um programa que, dado um conjunto de strings, remova as palavras duplicadas (case insensitive) e retorne uma nova lista com as palavras únicas, mantendo a ordem original.\n",
        "\n",
        "6. **Exercício 6:**\n",
        "   Crie uma função que recebe uma lista de strings e retorna a média do comprimento das strings na lista.\n",
        "\n",
        "7. **Exercício 7:**\n",
        "   Dada uma string de dados financeiros (por exemplo, \"R$ 1.234,56\"), escreva uma função que remove os caracteres especiais (como \"R$\", \".\", \",\") e retorna o valor como um número decimal.\n",
        "\n",
        "8. **Exercício 8:**\n",
        "   Crie uma função que recebe uma string com datas no formato \"DD/MM/AAAA\" e converte para o formato \"AAAA-MM-DD\".\n",
        "\n",
        "9. **Exercício 9:**\n",
        "   Escreva uma função que recebe uma string e retorna a mesma string com todas as ocorrências de uma palavra específica substituídas por outra palavra. A busca deve ser feita de forma case insensitive.\n",
        "\n",
        "10. **Exercício 10:**\n",
        "   Dada uma lista de strings representando nomes de clientes, crie uma função que gere uma lista contendo os nomes formatados corretamente (com a primeira letra maiúscula e as demais minúsculas).\n",
        "\n",
        "Esses exercícios são uma boa maneira de revisar manipulação de strings no Python, que é uma habilidade importante para análise de dados, especialmente ao lidar com textos e dados em formatos variados."
      ],
      "metadata": {
        "id": "L84fgWrFhZLK"
      }
    },
    {
      "cell_type": "markdown",
      "source": [
        "Exercício 1: Crie uma função que recebe uma lista de strings e retorna a string com o maior número de caracteres."
      ],
      "metadata": {
        "id": "0bIjJz14iRnh"
      }
    },
    {
      "cell_type": "code",
      "execution_count": null,
      "metadata": {
        "colab": {
          "base_uri": "https://localhost:8080/"
        },
        "id": "UjLyaGtrhRhr",
        "outputId": "74c4beb6-9979-404c-dfce-d27b8cb948e3"
      },
      "outputs": [
        {
          "output_type": "stream",
          "name": "stdout",
          "text": [
            "Digite a palavra para inserir na lista ou digite sair para encerrar: Banana\n",
            "Digite a palavra para inserir na lista ou digite sair para encerrar: Feijoada\n",
            "Digite a palavra para inserir na lista ou digite sair para encerrar: Bacalhau\n",
            "Digite a palavra para inserir na lista ou digite sair para encerrar: Brigadeiro\n",
            "Digite a palavra para inserir na lista ou digite sair para encerrar: Pão\n",
            "Digite a palavra para inserir na lista ou digite sair para encerrar: sair\n",
            "Encerrando.\n",
            "A lista de palavras: ['banana', 'feijoada', 'bacalhau', 'brigadeiro', 'pão']\n",
            "A maior palavra da lista é brigadeiro com 10 caracteres.\n"
          ]
        }
      ],
      "source": [
        "lista_palavras = []\n",
        "\n",
        "def analisar_strings(lista_palavras):\n",
        "\n",
        "  tamanho_string = len(lista_palavras[0]) #armazena o tamanho da primeira string\n",
        "  maior_string = lista_palavras[0] #armazena a primeira string\n",
        "\n",
        "  #intera sobre o indice e a palavra da lista\n",
        "  for string in lista_palavras:\n",
        "    #verifica se o tamanho da string é maior do que o primeiro que foi setadp\n",
        "    if len(string) > tamanho_string:\n",
        "      tamanho_string= len(string) #atualiza o tamanho da string\n",
        "      maior_string = string # se for maior a var recebe a string\n",
        "\n",
        "  return maior_string, tamanho_string\n",
        "\n",
        "while True:\n",
        "    try:\n",
        "      palavra = input('Digite a palavra para inserir na lista ou digite sair para encerrar: ').lower()\n",
        "\n",
        "      if palavra == 'sair':\n",
        "        print('Encerrando.')\n",
        "        break\n",
        "\n",
        "      if palavra.isalpha():\n",
        "        lista_palavras.append(palavra)\n",
        "\n",
        "    except ValueError:\n",
        "      print('Digite uma palavra válida')\n",
        "\n",
        "print(f'A lista de palavras: {lista_palavras}')\n",
        "\n",
        "# Fazer o unpacking da tupla retornada pela função\n",
        "maior_string, tamanho_string = analisar_strings(lista_palavras)\n",
        "\n",
        "print(f'A maior palavra da lista é {maior_string} com {tamanho_string} caracteres.')\n"
      ]
    },
    {
      "cell_type": "markdown",
      "source": [
        "Exercício 2: Dada uma string de texto, conte quantas palavras existem nela (considere palavras separadas por espaços). Lembre-se de remover espaços extras antes de contar as palavras."
      ],
      "metadata": {
        "id": "P93XYOrAqSVw"
      }
    },
    {
      "cell_type": "code",
      "source": [
        "texto = input('Digite o seu texto: ').lower()\n",
        "texto_limpo = ''.join(char for char in texto if char.isalpha() or char.isspace())\n",
        "palavras = texto_limpo.split()\n",
        "\n",
        "frequencia = {}\n",
        "\n",
        "for palavra in palavras:\n",
        "  frequencia[palavra] = frequencia.get(palavra, 0) + 1\n",
        "\n",
        "for palavra, contagem in frequencia.items():\n",
        "  print(f'{palavra}: {contagem}')\n"
      ],
      "metadata": {
        "colab": {
          "base_uri": "https://localhost:8080/"
        },
        "id": "3ofPO2QaqTnY",
        "outputId": "29d6e92d-67a3-4efb-c384-09e45aabcaaf"
      },
      "execution_count": null,
      "outputs": [
        {
          "output_type": "stream",
          "name": "stdout",
          "text": [
            "Digite o seu texto: olá belo mundo mundo belo\n",
            "olá: 1\n",
            "belo: 2\n",
            "mundo: 2\n"
          ]
        }
      ]
    },
    {
      "cell_type": "markdown",
      "source": [
        "Exercício 3: Crie uma função que recebe uma string e retorna o número de vezes que uma palavra específica aparece na string. A busca deve ser case insensitive."
      ],
      "metadata": {
        "id": "owFURGZwuA5w"
      }
    },
    {
      "cell_type": "code",
      "source": [
        "\n",
        "def encontrar_palavra(palavras, palavra_buscada):\n",
        "  contagem = 0\n",
        "  for palavra in palavras:\n",
        "    if palavra == palavra_buscada:\n",
        "      contagem +=1\n",
        "\n",
        "  return contagem\n",
        "\n",
        "texto = input('Digite o seu texto: ').lower()\n",
        "texto_limpo = ''.join(char for char in texto if char.isalpha() or char.isspace())\n",
        "palavras = texto_limpo.split()\n",
        "palavra_buscada = input('Digite a palavra para buscar: ').lower()\n",
        "\n",
        "if not palavra_buscada: #verificar se foi digitada uma palavra para buscar\n",
        "  print('Digite uma palavra para buscar no texto.')\n",
        "else:\n",
        "  contagem = encontrar_palavra(palavras,palavra_buscada)\n",
        "  print(f'A palavra {palavra_buscada} aparece {contagem} vezes no texto.')"
      ],
      "metadata": {
        "colab": {
          "base_uri": "https://localhost:8080/"
        },
        "id": "OvEQwjhxuBwv",
        "outputId": "87362795-457c-4b87-c6d6-cc1c3b935ec1"
      },
      "execution_count": null,
      "outputs": [
        {
          "output_type": "stream",
          "name": "stdout",
          "text": [
            "Digite o seu texto: olá belo mundo mundo belo mundo\n",
            "Digite a palavra para buscar: mundo\n",
            "A palavra mundo aparece 3 vezes no texto.\n"
          ]
        }
      ]
    },
    {
      "cell_type": "markdown",
      "source": [
        "Exercício 4: Dada uma string com números e letras misturados, extraia todos os números da string e retorne como uma lista de inteiros."
      ],
      "metadata": {
        "id": "OlHlaKG3j6kS"
      }
    },
    {
      "cell_type": "code",
      "source": [
        "string = \"4566spol563\"\n",
        "numeros = []\n",
        "\n",
        "for char in string:\n",
        "  if char.isdigit():\n",
        "    numeros.append(char)\n",
        "\n",
        "print(numeros)"
      ],
      "metadata": {
        "colab": {
          "base_uri": "https://localhost:8080/"
        },
        "id": "TwQmwWutj6JV",
        "outputId": "e6c83ed1-90ae-4c57-df40-86312b59cefa"
      },
      "execution_count": null,
      "outputs": [
        {
          "output_type": "stream",
          "name": "stdout",
          "text": [
            "['4', '5', '6', '6', '5', '6', '3']\n"
          ]
        }
      ]
    },
    {
      "cell_type": "code",
      "source": [
        "# em forma de função\n",
        "\n",
        "def extrair_numeros():\n",
        "  string = input(\"Digite o texto para remoção dos números: \")\n",
        "  numeros = []\n",
        "  for char in string:\n",
        "    if char.isdigit():\n",
        "      numeros.append(char)\n",
        "\n",
        "  return numeros\n",
        "\n",
        "extrair_numeros()"
      ],
      "metadata": {
        "colab": {
          "base_uri": "https://localhost:8080/"
        },
        "id": "3sKFGkzvlIoy",
        "outputId": "fa9ea6ea-3100-4174-8bbb-cb7ad6ba33a8"
      },
      "execution_count": null,
      "outputs": [
        {
          "name": "stdout",
          "output_type": "stream",
          "text": [
            "Digite o texto para remoção dos números: 252ujolopp237#8\n"
          ]
        },
        {
          "output_type": "execute_result",
          "data": {
            "text/plain": [
              "['2', '5', '2', '2', '3', '7', '8']"
            ]
          },
          "metadata": {},
          "execution_count": 7
        }
      ]
    },
    {
      "cell_type": "markdown",
      "source": [
        "Exercício 5: Escreva um programa que, dado um conjunto de strings, remova as palavras duplicadas (case insensitive) e retorne uma nova lista com as palavras únicas, mantendo a ordem original."
      ],
      "metadata": {
        "id": "QAbvPDS3meCZ"
      }
    },
    {
      "cell_type": "code",
      "source": [
        "texto = input('Digite o seu texto: ').lower()\n",
        "texto_limpo = ''.join(char for char in texto if char.isalpha() or char.isspace())\n",
        "palavras_texto = texto_limpo.split()\n",
        "palavras_unicas = []\n",
        "\n",
        "for palavra in palavras_texto:\n",
        "  if palavra not in palavras_unicas:\n",
        "    palavras_unicas.append(palavra)\n",
        "\n",
        "print(palavras_unicas)\n",
        "print(palavras_texto)"
      ],
      "metadata": {
        "colab": {
          "base_uri": "https://localhost:8080/"
        },
        "id": "b76w7lRjmW2p",
        "outputId": "e59b21ea-c8d3-4081-8926-7e877609ec2b"
      },
      "execution_count": null,
      "outputs": [
        {
          "output_type": "stream",
          "name": "stdout",
          "text": [
            "Digite o seu texto: olá belo mundo mundo belo mundo\n",
            "['olá', 'belo', 'mundo']\n",
            "['olá', 'belo', 'mundo', 'mundo', 'belo', 'mundo']\n"
          ]
        }
      ]
    },
    {
      "cell_type": "markdown",
      "source": [
        "Exercício 6: Crie uma função que recebe uma lista de strings e retorna a média do comprimento das strings na lista."
      ],
      "metadata": {
        "id": "Cr2FbgDgoq2u"
      }
    },
    {
      "cell_type": "code",
      "source": [
        "def media_tamanho_string():\n",
        "  lista_strings = []\n",
        "  soma = 0\n",
        "\n",
        "  while True:\n",
        "    string= input(\"Digite o item da lista, ou digite sair para encerrar o programa: \").lower()\n",
        "\n",
        "    if string == 'sair':\n",
        "      break\n",
        "\n",
        "    else:\n",
        "      lista_strings.append(string)\n",
        "\n",
        "  if lista_strings: # Verificar se a lista não está vazia\n",
        "    for elemento in lista_strings:\n",
        "      soma += len(elemento)\n",
        "\n",
        "  media = round(soma/len(lista_strings))\n",
        "\n",
        "  return media, soma, lista_strings\n",
        "\n",
        "media_tamanho_string()"
      ],
      "metadata": {
        "colab": {
          "base_uri": "https://localhost:8080/"
        },
        "id": "PDWaSc4KowHe",
        "outputId": "38d06d5f-68a8-488c-eae7-ed6e78c61e85"
      },
      "execution_count": null,
      "outputs": [
        {
          "name": "stdout",
          "output_type": "stream",
          "text": [
            "Digite o item da lista, ou digite sair para encerrar o programa: Maçã\n",
            "Digite o item da lista, ou digite sair para encerrar o programa: Limão\n",
            "Digite o item da lista, ou digite sair para encerrar o programa: sair\n"
          ]
        },
        {
          "output_type": "execute_result",
          "data": {
            "text/plain": [
              "(4, 9, ['maçã', 'limão'])"
            ]
          },
          "metadata": {},
          "execution_count": 26
        }
      ]
    },
    {
      "cell_type": "markdown",
      "source": [
        "Exercício 7: Dada uma string de dados financeiros (por exemplo, \"R 1.234,56\"),escreva uma função que remove os caracteres especiais(como\"R \", \".\", \",\") e retorna o valor como um número decimal."
      ],
      "metadata": {
        "id": "2GvgBaUnsrzD"
      }
    },
    {
      "cell_type": "code",
      "source": [
        "import re\n",
        "\n",
        "def tratar_dados_financeiros():\n",
        "  lista_dados_sujos = []\n",
        "  lista_dados_limpos = []\n",
        "\n",
        "  while True:\n",
        "    dados = input('Digite os dados para tratamento ou digite sair para encerrar o programa: ')\n",
        "\n",
        "    if dados != 'sair':\n",
        "      lista_dados_sujos.append(dados)\n",
        "\n",
        "    else:\n",
        "      break\n",
        "\n",
        "  if lista_dados_sujos:\n",
        "    for dado in lista_dados_sujos:\n",
        "      dado_limpo = re.sub(r'[^\\d,.-]', '', dado) #remover todo caractere que não for um número\n",
        "      dado_padronizado = dado_limpo.replace('.', '').replace(',', '.') #remover o . como separar de milhar e substituir a , por .\n",
        "\n",
        "\n",
        "      try:\n",
        "        dado_limpo_convertido = float(dado_padronizado) # Converter de str para float\n",
        "        lista_dados_limpos.append(dado_limpo_convertido)\n",
        "\n",
        "      except ValueError:\n",
        "        print('Erro ao fazer a limpeza dos dados.')\n",
        "\n",
        "  print('---- Dados sujos---:')\n",
        "  print(f'{lista_dados_sujos}')\n",
        "  print('---- Dados Limpos--- :')\n",
        "  print(f'{lista_dados_limpos}')\n",
        "\n",
        "  return\n",
        "\n",
        "tratar_dados_financeiros()"
      ],
      "metadata": {
        "colab": {
          "base_uri": "https://localhost:8080/"
        },
        "id": "ZKo_MJ_eswXz",
        "outputId": "fa5afbc6-4328-4bbe-c69e-c205f7f93267"
      },
      "execution_count": null,
      "outputs": [
        {
          "output_type": "stream",
          "name": "stdout",
          "text": [
            "Digite os dados para tratamento ou digite sair para encerrar o programa: R$$2.356,23\n",
            "Digite os dados para tratamento ou digite sair para encerrar o programa: r$5.689,24\n",
            "Digite os dados para tratamento ou digite sair para encerrar o programa: sair\n",
            "---- Dados sujos---:\n",
            "['R$$2.356,23', 'r$5.689,24']\n",
            "---- Dados Limpos--- :\n",
            "[2356.23, 5689.24]\n"
          ]
        }
      ]
    },
    {
      "cell_type": "markdown",
      "source": [
        "Exercício 8: Crie uma função que recebe uma string com datas no formato \"DD/MM/AAAA\" e converte para o formato \"AAAA-MM-DD\"."
      ],
      "metadata": {
        "id": "uauIJ_GcxOJ5"
      }
    },
    {
      "cell_type": "code",
      "source": [
        "from datetime import datetime\n",
        "\n",
        "def converter_data():\n",
        "  data_inicial = input('Digite a data para conversão do formato: ')\n",
        "  try:\n",
        "    data_convertida = datetime.strptime(data_inicial, \"%d/%m/%Y\")\n",
        "    data_formatada = data_convertida.strftime(\"%Y-%m-%d\")\n",
        "\n",
        "  except ValueError:\n",
        "    print('Não foi possível fazer a conversão.')\n",
        "\n",
        "  return data_formatada\n",
        "\n",
        "conversao = converter_data()\n",
        "print(f'A data convertida é: {conversao}')"
      ],
      "metadata": {
        "colab": {
          "base_uri": "https://localhost:8080/"
        },
        "id": "hlZSzBqXyuhX",
        "outputId": "33ab643c-53b0-418b-f0b8-0d3766b9ff81"
      },
      "execution_count": null,
      "outputs": [
        {
          "output_type": "stream",
          "name": "stdout",
          "text": [
            "Digite a data para conversão do formato: 23/05/2024\n",
            "A data convertida é: 2024-05-23\n"
          ]
        }
      ]
    },
    {
      "cell_type": "markdown",
      "source": [
        "Exercício 9: Escreva uma função que recebe uma string e retorna a mesma string com todas as ocorrências de uma palavra específica substituídas por outra palavra."
      ],
      "metadata": {
        "id": "rVnnfJHWg8_Z"
      }
    },
    {
      "cell_type": "code",
      "source": [
        "def substituir_palavra():\n",
        "  texto_original = input(\"Digite o texto: \").lower()\n",
        "  palavra_substituir = input(\"Digite a palavra que deseja substituir no texto: \").lower()\n",
        "  nova_palavra = input(\"Digite a palavra substituta:\").lower()\n",
        "\n",
        "  texto_substituido = texto_original.replace(palavra_substituir, nova_palavra)\n",
        "\n",
        "  return texto_substituido\n",
        "\n",
        "texto = substituir_palavra()\n",
        "print(f'O texto substituido é: {texto}')"
      ],
      "metadata": {
        "colab": {
          "base_uri": "https://localhost:8080/"
        },
        "id": "p5pjknitkSQP",
        "outputId": "a7a055f2-8a09-4162-803a-b5db035f6d3f"
      },
      "execution_count": null,
      "outputs": [
        {
          "output_type": "stream",
          "name": "stdout",
          "text": [
            "Digite o texto: olá belo mundo belo mundo\n",
            "Digite a palavra que deseja substituir no texto: mundo\n",
            "Digite a palavra substituta:planeta\n",
            "O texto substituido é: olá belo planeta belo planeta\n"
          ]
        }
      ]
    },
    {
      "cell_type": "markdown",
      "source": [
        "Exercício 10: Dada uma lista de strings representando nomes de clientes, crie uma função que gere uma lista contendo os nomes formatados corretamente (com a primeira letra maiúscula e as demais minúsculas)."
      ],
      "metadata": {
        "id": "k-hjLQkFhBCf"
      }
    },
    {
      "cell_type": "code",
      "source": [
        "clientes = ['penelope de vries', 'kika fernandes', 'antonella Dos santos']\n",
        "clientes_formatado = []\n",
        "lista_preposicoes = ['De', 'Da', 'Do', 'Dos', 'Das']\n",
        "\n",
        "for cliente in clientes:\n",
        "  nome_formatado = cliente.title()\n",
        "\n",
        "  for preposicao in lista_preposicoes:\n",
        "    nome_formatado = nome_formatado.replace(f\" {preposicao} \", f\" {preposicao.lower()} \")\n",
        "\n",
        "  clientes_formatado.append(nome_formatado)\n",
        "\n",
        "print(clientes_formatado)"
      ],
      "metadata": {
        "colab": {
          "base_uri": "https://localhost:8080/"
        },
        "id": "xuEXQtFqmYdV",
        "outputId": "b88dbc21-304c-48d6-d28e-cb3f3b06121c"
      },
      "execution_count": null,
      "outputs": [
        {
          "output_type": "stream",
          "name": "stdout",
          "text": [
            "['Penelope de Vries', 'Kika Fernandes', 'Antonella dos Santos']\n"
          ]
        }
      ]
    },
    {
      "cell_type": "code",
      "source": [
        "def formatar_nome(clientes):\n",
        "  clientes_formatado = []\n",
        "  lista_preposicoes = ['De', 'Da', 'Do', 'Dos', 'Das']\n",
        "\n",
        "  for cliente in clientes:\n",
        "    nome_formatado = cliente.title()\n",
        "\n",
        "    for preposicao in lista_preposicoes:\n",
        "      nome_formatado = nome_formatado.replace(f\" {preposicao} \", f\" {preposicao.lower()} \")\n",
        "\n",
        "    clientes_formatado.append(nome_formatado)\n",
        "\n",
        "  return clientes_formatado\n",
        "\n",
        "clientes = ['penelope de vries', 'kika fernandes', 'antonella Dos santos']\n",
        "nomes_formatados = formatar_nome(clientes)\n",
        "print(nomes_formatados)"
      ],
      "metadata": {
        "colab": {
          "base_uri": "https://localhost:8080/"
        },
        "id": "FiAxN7ibqbq0",
        "outputId": "d9741061-947d-4aa7-abf0-e394ce45b1d9"
      },
      "execution_count": null,
      "outputs": [
        {
          "output_type": "stream",
          "name": "stdout",
          "text": [
            "['Penelope de Vries', 'Kika Fernandes', 'Antonella dos Santos']\n"
          ]
        }
      ]
    },
    {
      "cell_type": "markdown",
      "source": [
        "**Exercícios de Listas e Dicionários**"
      ],
      "metadata": {
        "id": "QpoXLgOiiBUT"
      }
    },
    {
      "cell_type": "markdown",
      "source": [
        "1. Agrupando Dados por Categoria\n",
        "Você tem uma lista de dicionários representando vendas realizadas em uma loja. Cada dicionário contém:\n",
        "\n",
        "produto: nome do produto,\n",
        "categoria: categoria do produto,\n",
        "valor: valor da venda.\n",
        "Tarefa:\n",
        "\n",
        "Crie um dicionário que agrupe as vendas por categoria. A chave deve ser a categoria, e o valor deve ser uma lista com os produtos dessa categoria."
      ],
      "metadata": {
        "id": "6bPl5ZrEiEaO"
      }
    },
    {
      "cell_type": "code",
      "source": [
        "vendas = [\n",
        "    {\"produto\": \"Notebook\", \"categoria\": \"Eletrônicos\", \"valor\": 4500},\n",
        "    {\"produto\": \"Fone de Ouvido\", \"categoria\": \"Eletrônicos\", \"valor\": 200},\n",
        "    {\"produto\": \"Mesa\", \"categoria\": \"Móveis\", \"valor\": 700},\n",
        "    {\"produto\": \"Cadeira\", \"categoria\": \"Móveis\", \"valor\": 300},\n",
        "    {\"produto\": \"Celular\", \"categoria\": \"Eletrônicos\", \"valor\": 3500}\n",
        "]\n",
        "\n",
        "dict_categorias ={\n",
        "\n",
        "}\n",
        "\n",
        "for dicionario_venda in vendas:\n",
        "  categoria = dicionario_venda[\"categoria\"]\n",
        "  produto = dicionario_venda[\"produto\"]\n",
        "\n",
        "  if categoria not in dict_categorias: #verificar se a chave já existe no dict\n",
        "    dict_categorias[categoria] =[] #criar a chave caso ela não exista no dicionário\n",
        "\n",
        "  dict_categorias[categoria].append(produto) #adicionar o produto à categoria\n",
        "\n",
        "print(dict_categorias)"
      ],
      "metadata": {
        "colab": {
          "base_uri": "https://localhost:8080/"
        },
        "id": "qMJBiTFkiHzq",
        "outputId": "0e720bd2-4ba3-45b3-bee5-2e12f1291f44"
      },
      "execution_count": null,
      "outputs": [
        {
          "output_type": "stream",
          "name": "stdout",
          "text": [
            "{'Eletrônicos': ['Notebook', 'Fone de Ouvido', 'Celular'], 'Móveis': ['Mesa', 'Cadeira']}\n"
          ]
        }
      ]
    },
    {
      "cell_type": "markdown",
      "source": [
        "2. Calculando Métricas de Dados\n",
        "\n",
        "Você tem um dicionário com os seguintes dados de vendas:\n",
        "\n",
        "Tarefa:\n",
        "\n",
        "Calcule o total de vendas para cada mês.\n",
        "Encontre o mês com o maior volume de vendas.\n",
        "Calcule a média de vendas por mês."
      ],
      "metadata": {
        "id": "xC1vmFdkiMZi"
      }
    },
    {
      "cell_type": "code",
      "source": [
        "vendas = {\n",
        "    \"Janeiro\": [1200, 3500, 2000],\n",
        "    \"Fevereiro\": [1000, 2500, 3000],\n",
        "    \"Março\": [1300, 4000, 2200]\n",
        "}\n",
        "\n",
        "dict_relatorio_vendas ={\n",
        "\n",
        "}\n",
        "\n",
        "for chave, valor in vendas.items():\n",
        "  total_vendas_mes = sum(valor)\n",
        "  dict_relatorio_vendas[chave] = total_vendas_mes\n",
        "\n",
        "for mes, total in dict_relatorio_vendas.items():\n",
        "   print(f'O total de vendas do mês {mes} foi de {total}.')\n",
        "\n",
        "#pegar o mês com o maior valor de vendas\n",
        "mes_maior_valor_vendas = max(dict_relatorio_vendas, key = dict_relatorio_vendas.get)\n",
        "#pegar o valor de vendas desse mês\n",
        "maior_venda = dict_relatorio_vendas[mes_maior_valor_vendas] #usar o nome do mês obtido anteriormente para acessar o seu valor no dicionário\n",
        "\n",
        "#cálculo da média de vendas por mês\n",
        "media_vendas_mes = sum(dict_relatorio_vendas.values())/len(dict_relatorio_vendas)\n",
        "\n",
        "print(f'O mês com maior total de vendas foi {mes_maior_valor_vendas} com {maior_venda}.')\n",
        "print(f'A média de vendas por mês foi de {media_vendas_mes}')"
      ],
      "metadata": {
        "colab": {
          "base_uri": "https://localhost:8080/"
        },
        "id": "4lEREPqWiSlT",
        "outputId": "0507508f-4cd1-4ae5-ba44-82b6aa38d248"
      },
      "execution_count": null,
      "outputs": [
        {
          "output_type": "stream",
          "name": "stdout",
          "text": [
            "O total de vendas do mês Janeiro foi de 6700.\n",
            "O total de vendas do mês Fevereiro foi de 6500.\n",
            "O total de vendas do mês Março foi de 7500.\n",
            "O mês com maior total de vendas foi Março com 7500.\n",
            "A média de vendas por mês foi de 6900.0\n"
          ]
        }
      ]
    },
    {
      "cell_type": "markdown",
      "source": [
        "3. Filtrando Dados\n",
        "Você tem uma lista de dicionários representando funcionários e seus salários:\n",
        "\n",
        "Tarefa:\n",
        "\n",
        "Filtre apenas os funcionários com o cargo de \"Analista de Dados\".\n",
        "\n",
        "Calcule o total de salários para os analistas de dados.\n",
        "\n",
        "Crie uma lista apenas com os nomes dos funcionários que ganham mais de R$ 6.000.\n"
      ],
      "metadata": {
        "id": "MWUV1W4miYfi"
      }
    },
    {
      "cell_type": "code",
      "source": [
        "funcionarios = [\n",
        "    {\"nome\": \"Ana\", \"cargo\": \"Analista de Dados\", \"salario\": 5000},\n",
        "    {\"nome\": \"João\", \"cargo\": \"Cientista de Dados\", \"salario\": 8000},\n",
        "    {\"nome\": \"Carlos\", \"cargo\": \"Engenheiro de Dados\", \"salario\": 7000},\n",
        "    {\"nome\": \"Maria\", \"cargo\": \"Analista de Dados\", \"salario\": 5500}\n",
        "]\n",
        "\n",
        "lista_analistas = []\n",
        "\n",
        "for dicionario in funcionarios:\n",
        "  if dicionario[\"cargo\"] == \"Analista de Dados\":\n",
        "    lista_analistas.append(dicionario)\n",
        "\n",
        "print(f'Os analistas de dados são:{lista_analistas}')\n",
        "\n",
        "total_salario = 0\n",
        "\n",
        "for analista in lista_analistas:\n",
        "  total_salario += analista[\"salario\"] #acessar o valor do salario pela chave\n",
        "\n",
        "print(f'O total de salário dos analistas é de R${total_salario}')\n",
        "\n",
        "dict_funcionarios_salario_6000 = {}\n",
        "\n",
        "for dicionario in funcionarios:\n",
        "  if dicionario[\"salario\"] > 6000:\n",
        "    dict_funcionarios_salario_6000[dicionario[\"nome\"]] = dicionario\n",
        "\n",
        "print(f'Os funcionários que ganham mais que 6000 são: {dict_funcionarios_salario_6000}')"
      ],
      "metadata": {
        "colab": {
          "base_uri": "https://localhost:8080/"
        },
        "id": "11uzsblTXlnH",
        "outputId": "2c250c4c-f98a-41cd-a857-7acb2b90c813"
      },
      "execution_count": null,
      "outputs": [
        {
          "output_type": "stream",
          "name": "stdout",
          "text": [
            "Os analistas de dados são:[{'nome': 'Ana', 'cargo': 'Analista de Dados', 'salario': 5000}, {'nome': 'Maria', 'cargo': 'Analista de Dados', 'salario': 5500}]\n",
            "O total de salário dos analistas é de R$10500\n",
            "Os funcionários que ganham mais que 6000 são: {'João': {'nome': 'João', 'cargo': 'Cientista de Dados', 'salario': 8000}, 'Carlos': {'nome': 'Carlos', 'cargo': 'Engenheiro de Dados', 'salario': 7000}}\n"
          ]
        }
      ]
    },
    {
      "cell_type": "markdown",
      "source": [
        "4. Criando Relatórios\n",
        "\n",
        "Você tem dados de um questionário em que cada chave é o nome da pessoa e o valor é uma lista com as respostas:\n",
        "\n",
        "Tarefa:\n",
        "\n",
        "Conte quantas vezes cada resposta (\"Sim\" ou \"Não\") apareceu no total.\n",
        "Crie uma lista com os nomes das pessoas que responderam \"Sim\" mais de duas vezes."
      ],
      "metadata": {
        "id": "fWuk_a-8ifea"
      }
    },
    {
      "cell_type": "code",
      "source": [
        "respostas = {\n",
        "    \"Alice\": [\"Sim\", \"Não\", \"Sim\", \"Sim\"],\n",
        "    \"Bruno\": [\"Não\", \"Sim\", \"Não\", \"Não\"],\n",
        "    \"Carla\": [\"Sim\", \"Sim\", \"Sim\", \"Não\"]\n",
        "}\n",
        "\n",
        "cont_sim = 0\n",
        "cont_nao = 0\n",
        "\n",
        "for pessoa, resposta in respostas.items():\n",
        "  for item in resposta:\n",
        "    if item == 'Sim':\n",
        "      cont_sim +=1\n",
        "    else:\n",
        "      cont_nao += 1\n",
        "\n",
        "print(f'O total de respostas sim foi de {cont_sim} vezes.')\n",
        "print(f'O total de respostas não foi de {cont_nao} vezes.')"
      ],
      "metadata": {
        "colab": {
          "base_uri": "https://localhost:8080/"
        },
        "id": "c2YJZLyeimUT",
        "outputId": "5eb43b58-b12d-45d1-d6b0-822238a70c95"
      },
      "execution_count": null,
      "outputs": [
        {
          "output_type": "stream",
          "name": "stdout",
          "text": [
            "O total de respostas sim foi de 7 vezes.\n",
            "O total de respostas não foi de 5 vezes.\n"
          ]
        }
      ]
    },
    {
      "cell_type": "code",
      "source": [
        "respostas = {\n",
        "    \"Alice\": [\"Sim\", \"Não\", \"Sim\", \"Sim\"],\n",
        "    \"Bruno\": [\"Não\", \"Sim\", \"Não\", \"Não\"],\n",
        "    \"Carla\": [\"Sim\", \"Sim\", \"Sim\", \"Não\"]\n",
        "}\n",
        "\n",
        "cont_sim = 0\n",
        "cont_nao = 0\n",
        "\n",
        "lista_pessoas_sim_2 = []\n",
        "\n",
        "for pessoa, resposta in respostas.items():\n",
        "  for item in resposta:\n",
        "    if item == 'Sim':\n",
        "      cont_sim +=1\n",
        "\n",
        "  if cont_sim > 2:\n",
        "    lista_pessoas_sim_2.append(pessoa)\n",
        "\n",
        "print(f'As pessoas que responderam sim mais de 2 vezes foram: {lista_pessoas_sim_2}')"
      ],
      "metadata": {
        "colab": {
          "base_uri": "https://localhost:8080/"
        },
        "id": "2xvPRhgAbOqo",
        "outputId": "a51c0122-d32a-445d-a43d-a870ccbe12e8"
      },
      "execution_count": null,
      "outputs": [
        {
          "output_type": "stream",
          "name": "stdout",
          "text": [
            "As pessoas que responderam sim mais de 2 vezes foram: ['Alice', 'Bruno', 'Carla']\n"
          ]
        }
      ]
    },
    {
      "cell_type": "markdown",
      "source": [
        "5. Transformando Dados\n",
        "\n",
        "Você tem um dicionário onde as chaves são produtos e os valores são seus preços:\n",
        "Tarefa:\n",
        "\n",
        "Converta este dicionário em uma lista de dicionários, onde cada dicionário tem as chaves produto e preco.\n",
        "Ordene a lista de dicionários pelo preço, do maior para o menor."
      ],
      "metadata": {
        "id": "b6rapGV8irtz"
      }
    },
    {
      "cell_type": "code",
      "source": [
        "#resolução gpt\n",
        "\n",
        "precos = {\n",
        "    \"Notebook\": 4500,\n",
        "    \"Celular\": 3000,\n",
        "    \"Fone de Ouvido\": 200,\n",
        "    \"Cadeira\": 300\n",
        "}\n",
        "\n",
        "# Converter o dicionário em uma lista de dicionários\n",
        "lista_de_dicionarios = [{\"produto\": produto, \"preco\": preco} for produto, preco in precos.items()]\n",
        "\n",
        "# Ordenar a lista de dicionários pelo preço, do maior para o menor\n",
        "lista_ordenada = sorted(lista_de_dicionarios, key=lambda x: x[\"preco\"], reverse=True)\n",
        "\n",
        "print(lista_ordenada)\n"
      ],
      "metadata": {
        "colab": {
          "base_uri": "https://localhost:8080/"
        },
        "id": "MqyFq60Fiw-q",
        "outputId": "a224d62c-2df1-4be7-d4e9-c52384756084"
      },
      "execution_count": null,
      "outputs": [
        {
          "output_type": "stream",
          "name": "stdout",
          "text": [
            "[{'produto': 'Notebook', 'preco': 4500}, {'produto': 'Celular', 'preco': 3000}, {'produto': 'Cadeira', 'preco': 300}, {'produto': 'Fone de Ouvido', 'preco': 200}]\n"
          ]
        }
      ]
    },
    {
      "cell_type": "markdown",
      "source": [
        "6. Criando uma Tabela de Frequências\n",
        "\n",
        "Você tem a seguinte lista de categorias:\n",
        "\n",
        "Tarefa:\n",
        "\n",
        "Crie um dicionário onde as chaves são as categorias únicas e os valores são a quantidade de vezes que cada categoria aparece."
      ],
      "metadata": {
        "id": "zWtsb_t6i10y"
      }
    },
    {
      "cell_type": "code",
      "source": [
        "categorias = [\"Eletrônicos\", \"Móveis\", \"Eletrônicos\", \"Móveis\", \"Eletrônicos\", \"Eletrodomésticos\"]\n",
        "\n",
        "dict_categorias_freq = {}\n",
        "\n",
        "for valor in categorias:\n",
        "  if valor not in dict_categorias_freq:\n",
        "    dict_categorias_freq[valor] = 1\n",
        "  else:\n",
        "    dict_categorias_freq[valor] += 1\n",
        "\n",
        "print(dict_categorias_freq)\n"
      ],
      "metadata": {
        "colab": {
          "base_uri": "https://localhost:8080/"
        },
        "id": "fm0O3DDxi6kq",
        "outputId": "0bf87cea-ffdd-40ad-ae59-799199175c0b"
      },
      "execution_count": null,
      "outputs": [
        {
          "output_type": "stream",
          "name": "stdout",
          "text": [
            "{'Eletrônicos': 3, 'Móveis': 2, 'Eletrodomésticos': 1}\n"
          ]
        }
      ]
    },
    {
      "cell_type": "markdown",
      "source": [
        "7. Intersecção de Dados\n",
        "\n",
        "Você tem duas listas representando IDs de usuários:\n",
        "\n",
        "Tarefa:\n",
        "\n",
        "Encontre os IDs que estão em ambas as listas.\n",
        "Encontre os IDs que estão em usuarios_compras mas não em usuarios_ativos."
      ],
      "metadata": {
        "id": "2jh6PLt-i8I6"
      }
    },
    {
      "cell_type": "code",
      "source": [
        "usuarios_ativos = [101, 102, 103, 104]\n",
        "usuarios_compras = [103, 104, 105, 106]\n",
        "\n",
        "IDs_ambas_listas = []\n",
        "IDs_unicos_compras = []\n",
        "\n",
        "for item in usuarios_compras:\n",
        "  if item in usuarios_ativos:\n",
        "    if item not in IDs_ambas_listas:\n",
        "      IDs_ambas_listas.append(item)\n",
        "  else:\n",
        "    IDs_unicos_compras.append(item)\n",
        "\n",
        "print(f'Os usuários resentes em usuarios_compras que não estão ativos são: {IDs_unicos_compras}')\n",
        "print(f'Os usuários em ambas as listas são: {IDs_ambas_listas}')\n"
      ],
      "metadata": {
        "colab": {
          "base_uri": "https://localhost:8080/"
        },
        "id": "BDUfK8ezi-Ki",
        "outputId": "98915b38-4cda-43ef-896c-703a0bc63482"
      },
      "execution_count": null,
      "outputs": [
        {
          "output_type": "stream",
          "name": "stdout",
          "text": [
            "Os usuários resentes em usuarios_compras que não estão ativos são: [105, 106]\n",
            "Os usuários em ambas as listas são: [103, 104]\n"
          ]
        }
      ]
    },
    {
      "cell_type": "markdown",
      "source": [
        "**Exercícios Listas, tuplas e dicionários**"
      ],
      "metadata": {
        "id": "HiZrsR2Oprxq"
      }
    },
    {
      "cell_type": "markdown",
      "source": [
        "Acessando Elementos\n",
        "\n",
        "Crie uma tupla com 5 elementos. Acesse e imprima o primeiro e o último elemento da tupla."
      ],
      "metadata": {
        "id": "l4UYtZlPrLqY"
      }
    },
    {
      "cell_type": "code",
      "source": [
        "tupla_1 =(\"Penélope\",2, \"01/01/2024\",4,5)\n",
        "\n",
        "print(tupla_1[0])\n",
        "print(tupla_1[-1])"
      ],
      "metadata": {
        "colab": {
          "base_uri": "https://localhost:8080/"
        },
        "id": "RavEsqorpvC6",
        "outputId": "f5d7cb83-f64d-4ca7-c156-92c77fbd6bce"
      },
      "execution_count": null,
      "outputs": [
        {
          "output_type": "stream",
          "name": "stdout",
          "text": [
            "Penélope\n",
            "5\n"
          ]
        }
      ]
    },
    {
      "cell_type": "markdown",
      "source": [
        "Desempacotamento de Tupla\n",
        "\n",
        "Crie uma tupla com 3 valores e use o desempacotamento para atribuir cada valor a uma variável separada."
      ],
      "metadata": {
        "id": "lYbLckPjr5Qp"
      }
    },
    {
      "cell_type": "code",
      "source": [
        "dados_cliente1 = (\"Júlia\", \"20/08/1996\", 28)\n",
        "\n",
        "nome, data_nascimento, idade = dados_cliente1\n",
        "print(nome)\n",
        "print(data_nascimento)\n",
        "print(idade)"
      ],
      "metadata": {
        "colab": {
          "base_uri": "https://localhost:8080/"
        },
        "id": "ojCEWd4Nr2gR",
        "outputId": "898326ee-abbd-4f6d-db6b-000647add432"
      },
      "execution_count": null,
      "outputs": [
        {
          "output_type": "stream",
          "name": "stdout",
          "text": [
            "Júlia\n",
            "20/08/1996\n",
            "28\n"
          ]
        }
      ]
    },
    {
      "cell_type": "markdown",
      "source": [
        "Conversão de Lista para Tupla\n",
        "\n",
        "Crie uma lista e converta-a em uma tupla. Mostre o resultado."
      ],
      "metadata": {
        "id": "uV0yWyLsslgI"
      }
    },
    {
      "cell_type": "code",
      "source": [
        "lista_dados_clientes = ['Penélope', '01/01/1994', 31, 'Feminino']\n",
        "\n",
        "tupla_dados = tuple(lista_dados_clientes)\n",
        "print(tupla_dados)"
      ],
      "metadata": {
        "colab": {
          "base_uri": "https://localhost:8080/"
        },
        "id": "Uk1hhLlHsqEA",
        "outputId": "f28cb77d-4b9f-406e-87fc-1cf16ec4ffd3"
      },
      "execution_count": null,
      "outputs": [
        {
          "output_type": "stream",
          "name": "stdout",
          "text": [
            "('Penélope', '01/01/1994', 31, 'Feminino')\n"
          ]
        }
      ]
    },
    {
      "cell_type": "markdown",
      "source": [
        "Operações com Tuplas\n",
        "\n",
        "Crie duas tuplas e concatene-as em uma única tupla."
      ],
      "metadata": {
        "id": "rPE-awZRty4B"
      }
    },
    {
      "cell_type": "code",
      "source": [
        "tupla_2 = (\"Nina\", \"13/09/2013\", 4, 3)\n",
        "nova_tupla = tupla_1 + tupla_2\n",
        "print(nova_tupla)"
      ],
      "metadata": {
        "colab": {
          "base_uri": "https://localhost:8080/"
        },
        "id": "O3FefzyLtyXx",
        "outputId": "e6a531c0-d8dc-4bf5-9171-89b70618eb73"
      },
      "execution_count": null,
      "outputs": [
        {
          "output_type": "stream",
          "name": "stdout",
          "text": [
            "('Penélope', 2, '01/01/2024', 4, 5, 'Nina', '13/09/2013', 4, 3)\n"
          ]
        }
      ]
    },
    {
      "cell_type": "markdown",
      "source": [
        "Ordenação de Lista\n",
        "\n",
        "Crie uma lista de números inteiros. Ordene a lista em ordem crescente e depois em ordem decrescente."
      ],
      "metadata": {
        "id": "lf3PMBWVw8hx"
      }
    },
    {
      "cell_type": "code",
      "source": [
        "lista_numeros = [1,0,35,8]\n",
        "lista_numeros.sort()\n",
        "print(lista_numeros)"
      ],
      "metadata": {
        "colab": {
          "base_uri": "https://localhost:8080/"
        },
        "id": "IXKz-gn2xCWg",
        "outputId": "591bc6c6-0201-4b3a-89db-5126337cb89a"
      },
      "execution_count": null,
      "outputs": [
        {
          "output_type": "stream",
          "name": "stdout",
          "text": [
            "[0, 1, 8, 35]\n"
          ]
        }
      ]
    },
    {
      "cell_type": "markdown",
      "source": [
        "Adição e Remoção de Elementos\n",
        "\n",
        "Crie uma lista de frutas. Adicione 3 frutas novas à lista e remova uma fruta que já estava na lista."
      ],
      "metadata": {
        "id": "g5YQcAyzx0Yo"
      }
    },
    {
      "cell_type": "code",
      "source": [
        "lista_frutas = ['Maçã', 'Uva', 'Laranja']\n",
        "lista_frutas.append('Maracujá')\n",
        "lista_frutas.remove('Uva')\n",
        "print(lista_frutas)"
      ],
      "metadata": {
        "colab": {
          "base_uri": "https://localhost:8080/"
        },
        "id": "ijdgSTO9x3xQ",
        "outputId": "e9e30c15-dfd4-4781-ec77-10b1f7130212"
      },
      "execution_count": null,
      "outputs": [
        {
          "output_type": "stream",
          "name": "stdout",
          "text": [
            "['Maçã', 'Laranja', 'Maracujá']\n"
          ]
        }
      ]
    },
    {
      "cell_type": "markdown",
      "source": [
        "Filtrando Números Pares\n",
        "\n",
        "Dada uma lista de números inteiros, crie uma nova lista contendo apenas os números pares."
      ],
      "metadata": {
        "id": "Fvd24jXTyII6"
      }
    },
    {
      "cell_type": "code",
      "source": [
        "num_inteiros = [1,2,85,96,24]\n",
        "pares= []\n",
        "\n",
        "for numero in num_inteiros:\n",
        "  if numero%2 == 0:\n",
        "    pares.append(numero)\n",
        "\n",
        "print(pares)"
      ],
      "metadata": {
        "colab": {
          "base_uri": "https://localhost:8080/"
        },
        "id": "6k_Gm1F2yMz4",
        "outputId": "81a161c4-49bc-428c-88d0-4ed94832c93b"
      },
      "execution_count": null,
      "outputs": [
        {
          "output_type": "stream",
          "name": "stdout",
          "text": [
            "[2, 96, 24]\n"
          ]
        }
      ]
    },
    {
      "cell_type": "markdown",
      "source": [
        "Concatenação de Listas\n",
        "\n",
        "Crie duas listas de nomes de pessoas e concatene-as em uma única lista."
      ],
      "metadata": {
        "id": "cHv_aCywyhdI"
      }
    },
    {
      "cell_type": "code",
      "source": [
        "nomes_1 =['Nina', 'Verena', 'Julieta']\n",
        "nomes_2 = ['Murphy', 'Juma', 'Penélope']\n",
        "\n",
        "nomes_1.extend(nomes_2)\n",
        "print(nomes_1)"
      ],
      "metadata": {
        "colab": {
          "base_uri": "https://localhost:8080/"
        },
        "id": "THyzNsk1yk3J",
        "outputId": "fedce179-377e-4b90-b88a-cb63127705d3"
      },
      "execution_count": null,
      "outputs": [
        {
          "output_type": "stream",
          "name": "stdout",
          "text": [
            "['Nina', 'Verena', 'Julieta', 'Murphy', 'Juma', 'Penélope']\n"
          ]
        }
      ]
    },
    {
      "cell_type": "markdown",
      "source": [
        "Contagem de Elementos\n",
        "\n",
        "Crie uma lista de palavras e conte quantas vezes uma palavra específica aparece na lista."
      ],
      "metadata": {
        "id": "LMjkqfrryyag"
      }
    },
    {
      "cell_type": "code",
      "source": [
        "palavras_lista = ['Bolo', 'Maçã', 'Bolo', 'Bolo', 'Ovo', 'Chocolate']\n",
        "palavra_especifica = 'Bolo'\n",
        "cont = 0\n",
        "\n",
        "for item in palavras_lista:\n",
        "  if item == palavra_especifica:\n",
        "    cont+=1\n",
        "\n",
        "print(cont)"
      ],
      "metadata": {
        "colab": {
          "base_uri": "https://localhost:8080/"
        },
        "id": "MopW_fLyy2kv",
        "outputId": "f76c60d2-c648-4e41-f9e6-9da88a8dc09e"
      },
      "execution_count": null,
      "outputs": [
        {
          "output_type": "stream",
          "name": "stdout",
          "text": [
            "3\n"
          ]
        }
      ]
    },
    {
      "cell_type": "markdown",
      "source": [
        "Criação e Acesso a Valores\n",
        "\n",
        "Crie um dicionário com informações de um produto, como nome, preço e categoria. Acesse e imprima o nome e o preço."
      ],
      "metadata": {
        "id": "jRsyV_E-0fUZ"
      }
    },
    {
      "cell_type": "code",
      "source": [
        "dict_produtos = {'Nome': 'Celular', 'Preço': 2500, 'Categoria': 'Eletrônicos'}\n",
        "\n",
        "print(dict_produtos['Nome'])\n",
        "print(dict_produtos['Preço'])"
      ],
      "metadata": {
        "colab": {
          "base_uri": "https://localhost:8080/"
        },
        "id": "Bu88UDkS0kux",
        "outputId": "c490bd83-0dae-40a3-bc9a-51787b8a367b"
      },
      "execution_count": null,
      "outputs": [
        {
          "output_type": "stream",
          "name": "stdout",
          "text": [
            "Celular\n",
            "2500\n"
          ]
        }
      ]
    },
    {
      "cell_type": "markdown",
      "source": [
        "Atualização de Valores\n",
        "\n",
        "Atualize o preço de um produto em um dicionário e imprima o dicionário atualizado."
      ],
      "metadata": {
        "id": "0mwlVSPk0_Uo"
      }
    },
    {
      "cell_type": "code",
      "source": [
        "dict_produtos['Preço'] = 3000\n",
        "print(dict_produtos)"
      ],
      "metadata": {
        "colab": {
          "base_uri": "https://localhost:8080/"
        },
        "id": "zsgYx0jK1Gjf",
        "outputId": "56de2dd3-cf7f-46ac-ae4c-54c88c81ca0d"
      },
      "execution_count": null,
      "outputs": [
        {
          "output_type": "stream",
          "name": "stdout",
          "text": [
            "{'Nome': 'Celular', 'Preço': 3000, 'Categoria': 'Eletrônicos'}\n"
          ]
        }
      ]
    },
    {
      "cell_type": "code",
      "source": [
        "dict_produtos.update({'Preço': 3500})\n",
        "print(dict_produtos)"
      ],
      "metadata": {
        "colab": {
          "base_uri": "https://localhost:8080/"
        },
        "id": "Pt0_ZcmJ1Vro",
        "outputId": "a8629212-2c45-4f94-9108-dc28dd549a3e"
      },
      "execution_count": null,
      "outputs": [
        {
          "output_type": "stream",
          "name": "stdout",
          "text": [
            "{'Nome': 'Celular', 'Preço': 3500, 'Categoria': 'Eletrônicos'}\n"
          ]
        }
      ]
    },
    {
      "cell_type": "markdown",
      "source": [
        "Iteração em Dicionário\n",
        "\n",
        "Crie um dicionário com 3 pares chave-valor. Use um loop para iterar sobre as chaves, os valores e ambos."
      ],
      "metadata": {
        "id": "U_Sjr73N1gNa"
      }
    },
    {
      "cell_type": "code",
      "source": [
        "dict_exercicio3 ={\n",
        "    'Arroz': 28.99,\n",
        "    'Feijão': 10.95,\n",
        "    'Açúcar': 27.65\n",
        "}\n",
        "\n",
        "for chave, valor in dict_exercicio3.items():\n",
        "  print(f'O produto {chave} tem preço de R${valor}.')"
      ],
      "metadata": {
        "colab": {
          "base_uri": "https://localhost:8080/"
        },
        "id": "ydjgvlFo1jQo",
        "outputId": "02c3ec10-d3d9-4ba7-93bc-9f7282f8afc7"
      },
      "execution_count": null,
      "outputs": [
        {
          "output_type": "stream",
          "name": "stdout",
          "text": [
            "O produto Arroz tem preço de R$28.99.\n",
            "O produto Feijão tem preço de R$10.95.\n",
            "O produto Açúcar tem preço de R$27.65.\n"
          ]
        }
      ]
    },
    {
      "cell_type": "markdown",
      "source": [
        "Lista de Dicionários\n",
        "\n",
        "Crie uma lista com 3 dicionários, onde cada dicionário representa um aluno com nome, idade e nota. Calcule a média das notas."
      ],
      "metadata": {
        "id": "-r2ArMxZ2FzA"
      }
    },
    {
      "cell_type": "code",
      "source": [
        "lista_notas_alunos =[{'Nome': 'Nina', 'Idade': 15, 'Nota': 9.5}, {'Nome': 'Julieta', 'Idade': 16, 'Nota': 10}, {'Nome': 'Verena', 'Idade': 15, 'Nota': 8.5}]\n",
        "soma_notas = 0\n",
        "\n",
        "for dicionario in lista_notas_alunos:\n",
        "  soma_notas += dicionario['Nota']\n",
        "\n",
        "media_notas = round(soma_notas/len(lista_notas_alunos), 2)\n",
        "print(media_notas)"
      ],
      "metadata": {
        "colab": {
          "base_uri": "https://localhost:8080/"
        },
        "id": "LqGMVaH03ErY",
        "outputId": "89617458-2c9b-40f9-c518-f0b633f82bc0"
      },
      "execution_count": null,
      "outputs": [
        {
          "output_type": "stream",
          "name": "stdout",
          "text": [
            "9.33\n"
          ]
        }
      ]
    }
  ]
}